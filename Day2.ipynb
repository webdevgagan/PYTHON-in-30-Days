{
 "cells": [
  {
   "cell_type": "code",
   "execution_count": 5,
   "id": "58087773",
   "metadata": {},
   "outputs": [],
   "source": [
    "spam = 'Hello world!'\n",
    "spam[0]\n",
    "spam[4]\n",
    "spam[-1]\n",
    "spam[0:5]\n",
    "spam = spam.upper()\n",
    "spam\n",
    "spam = ['cats', 'dogs', 'moose']\n",
    "bacon = ['dogs', 'moose', 'cats']\n",
    "spam == bacon\n",
    "False\n",
    "eggs = {'name': 'Zophie', 'species': 'cat', 'age': '8'}\n",
    "ham = {'species': 'cat', 'age': '8', 'name': 'Zophie'}\n",
    "eggs == ham\n",
    "True\n",
    "theBoard = {'top-L': ' ', 'top-M': ' ', 'top-R': ' ',\n",
    " 'mid-L': ' ', 'mid-M': ' ', 'mid-R': ' ',\n",
    " 'low-L': ' ', 'low-M': ' ', 'low-R': ' '}\n",
    "theBoard = {'top-L': ' ', 'top-M': ' ', 'top-R': ' ',\n",
    " 'mid-L': ' ', 'mid-M': 'X', 'mid-R': ' ',\n",
    " 'low-L': ' ', 'low-M': ' ', 'low-R': ' '}\n",
    "theBoard = {'top-L': 'O', 'top-M': 'O', 'top-R': 'O',\n",
    " 'mid-L': 'X', 'mid-M': 'X', 'mid-R': ' ',\n",
    " 'low-L': ' ', 'low-M': ' ', 'low-R': 'X'}\n",
    "theBoard = {'top-L': ' ', 'top-M': ' ', 'top-R': ' ',\n",
    " 'mid-L': ' ', 'mid-M': ' ', 'mid-R': ' ',\n",
    " 'low-L': ' ', 'low-M': ' ', 'low-R': ' '}\n",
    "def printBoard(board):\n",
    " print(board['top-L'] + '|' + board['top-M'] + '|' + board['top-R'])\n",
    " print('-+-+-')\n",
    " print(board['mid-L'] + '|' + board['mid-M'] + '|' + board['mid-R'])\n",
    " print('-+-+-')\n",
    " print(board['low-L'] + '|' + board['low-M'] + '|' + board['low-R'])\n",
    "printBoard(theBoar"
   ]
  }
 ],
 "metadata": {
  "kernelspec": {
   "display_name": "Python 3",
   "language": "python",
   "name": "python3"
  },
  "language_info": {
   "codemirror_mode": {
    "name": "ipython",
    "version": 3
   },
   "file_extension": ".py",
   "mimetype": "text/x-python",
   "name": "python",
   "nbconvert_exporter": "python",
   "pygments_lexer": "ipython3",
   "version": "3.8.8"
  }
 },
 "nbformat": 4,
 "nbformat_minor": 5
}
