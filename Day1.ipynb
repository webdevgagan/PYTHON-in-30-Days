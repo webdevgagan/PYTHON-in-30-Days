{
 "cells": [
  {
   "cell_type": "code",
   "execution_count": null,
   "id": "8c76cdd6",
   "metadata": {},
   "outputs": [],
   "source": [
    " birthdays = {'Alice': 'Apr 1', 'Bob': 'Dec 12', 'Carol': 'Mar 4'}\n",
    "    \n",
    "    \n",
    "while True:\n",
    "    print('Enter a name: (blank to quit)')\n",
    "    name = input()\n",
    "    if name == '':\n",
    "       break\n",
    "if name in birthdays:\n",
    "    print(birthdays[name] + ' is the birthday of ' + name)\n",
    "else:\n",
    "    print('I do not have birthday information for ' + name)\n",
    "    print('What is their birthday?')\n",
    "    bday = input()\n",
    "    birthdays[name] = bday\n",
    "    print('Birthday database updated.')\n"
   ]
  },
  {
   "cell_type": "code",
   "execution_count": null,
   "id": "39009faa",
   "metadata": {},
   "outputs": [],
   "source": [
    "spam = {'name': 'Pooka', 'age': 5}\n",
    "if 'color' not in spam:\n",
    " spam['color'] = 'black'"
   ]
  },
  {
   "cell_type": "code",
   "execution_count": null,
   "id": "ced62101",
   "metadata": {},
   "outputs": [],
   "source": []
  },
  {
   "cell_type": "code",
   "execution_count": null,
   "id": "aed2660e",
   "metadata": {},
   "outputs": [],
   "source": []
  }
 ],
 "metadata": {
  "kernelspec": {
   "display_name": "Python 3",
   "language": "python",
   "name": "python3"
  },
  "language_info": {
   "codemirror_mode": {
    "name": "ipython",
    "version": 3
   },
   "file_extension": ".py",
   "mimetype": "text/x-python",
   "name": "python",
   "nbconvert_exporter": "python",
   "pygments_lexer": "ipython3",
   "version": "3.8.8"
  }
 },
 "nbformat": 4,
 "nbformat_minor": 5
}
